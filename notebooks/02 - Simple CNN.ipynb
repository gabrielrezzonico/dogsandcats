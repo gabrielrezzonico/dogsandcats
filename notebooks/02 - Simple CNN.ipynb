{
 "cells": [
  {
   "cell_type": "markdown",
   "metadata": {
    "deletable": true,
    "editable": true
   },
   "source": [
    "## Simple CNN"
   ]
  },
  {
   "cell_type": "markdown",
   "metadata": {
    "deletable": true,
    "editable": true
   },
   "source": [
    "We are going to define a simple Convolutional Network and we are going to train it from scrath on the dataset. The results of this model is going to be our benchmark"
   ]
  },
  {
   "cell_type": "markdown",
   "metadata": {
    "deletable": true,
    "editable": true
   },
   "source": [
    "We are going to use Keras library with tensorflow as a backend."
   ]
  },
  {
   "cell_type": "markdown",
   "metadata": {
    "deletable": true,
    "editable": true
   },
   "source": [
    "## Common configuration"
   ]
  },
  {
   "cell_type": "code",
   "execution_count": 1,
   "metadata": {
    "collapsed": true,
    "deletable": true,
    "editable": true
   },
   "outputs": [],
   "source": [
    "IMAGE_SIZE = (360,404) # The dimensions to which all images found will be resized.\n",
    "BATCH_SIZE = 32\n",
    "NUMBER_EPOCHS = 8\n",
    "\n",
    "TENSORBOARD_DIRECTORY = \"../logs/simple_model/tensorboard\"\n",
    "TRAIN_DIRECTORY = \"../data/train/\"\n",
    "VALID_DIRECTORY = \"../data/valid/\"\n",
    "\n",
    "NUMBER_TRAIN_SAMPLES = 20000\n",
    "NUMBER_VALIDATION_SAMPLES = 5000\n",
    "\n",
    "WEIGHTS_DIRECTORY = \"../weights/\""
   ]
  },
  {
   "cell_type": "markdown",
   "metadata": {
    "deletable": true,
    "editable": true
   },
   "source": [
    "Check that we are using the GPU:"
   ]
  },
  {
   "cell_type": "code",
   "execution_count": 2,
   "metadata": {
    "collapsed": false,
    "deletable": true,
    "editable": true
   },
   "outputs": [
    {
     "data": {
      "text/plain": [
       "['/gpu:0']"
      ]
     },
     "execution_count": 2,
     "metadata": {},
     "output_type": "execute_result"
    }
   ],
   "source": [
    "from tensorflow.python.client import device_lib\n",
    "def get_available_gpus():\n",
    "    local_device_protos = device_lib.list_local_devices()\n",
    "    return [x.name for x in local_device_protos if x.device_type == 'GPU']\n",
    "    \n",
    "get_available_gpus()"
   ]
  },
  {
   "cell_type": "code",
   "execution_count": 5,
   "metadata": {
    "collapsed": false,
    "deletable": true,
    "editable": true
   },
   "outputs": [
    {
     "name": "stdout",
     "output_type": "stream",
     "text": [
      "[[ 22.  28.]\n",
      " [ 49.  64.]]\n"
     ]
    }
   ],
   "source": [
    "# Creates a graph.\n",
    "with tf.device('/gpu:0'):\n",
    "  a = tf.constant([1.0, 2.0, 3.0, 4.0, 5.0, 6.0], shape=[2, 3], name='a')\n",
    "  b = tf.constant([1.0, 2.0, 3.0, 4.0, 5.0, 6.0], shape=[3, 2], name='b')\n",
    "  c = tf.matmul(a, b)\n",
    "# Creates a session with log_device_placement set to True.\n",
    "sess = tf.Session(config=tf.ConfigProto(log_device_placement=True))\n",
    "# Runs the op.\n",
    "print(sess.run(c))"
   ]
  },
  {
   "cell_type": "markdown",
   "metadata": {
    "deletable": true,
    "editable": true
   },
   "source": [
    "## Model"
   ]
  },
  {
   "cell_type": "markdown",
   "metadata": {
    "deletable": true,
    "editable": true
   },
   "source": [
    "### Model definition"
   ]
  },
  {
   "cell_type": "code",
   "execution_count": 19,
   "metadata": {
    "collapsed": false,
    "deletable": true,
    "editable": true
   },
   "outputs": [],
   "source": [
    "from keras.models import Model\n",
    "from keras.layers.convolutional import Convolution2D, MaxPooling2D\n",
    "from keras.layers import Input, Dense, Flatten\n",
    "\n",
    "inputs = Input(shape = (IMAGE_SIZE[0], IMAGE_SIZE[1], 3))\n",
    "\n",
    "# First CNN Layer\n",
    "x = Convolution2D(16, (3, 3), \n",
    "                  activation='relu', \n",
    "                  data_format=\"channels_last\", \n",
    "                  kernel_initializer=\"he_uniform\")(inputs)\n",
    "\n",
    "x = MaxPooling2D(pool_size=(3, 3), \n",
    "                 strides=(2, 2), \n",
    "                 data_format=\"channels_last\")(x)\n",
    "\n",
    "# Second CNN Layer\n",
    "x = Convolution2D(32, (3, 3), \n",
    "                  activation='relu', \n",
    "                  data_format=\"channels_last\", \n",
    "                  kernel_initializer=\"he_uniform\")(x)\n",
    "x = MaxPooling2D(pool_size=(2, 2), \n",
    "                 strides=(2, 2), \n",
    "                 data_format=\"channels_last\")(x)\n",
    "\n",
    "# Third CNN Layer\n",
    "x = Convolution2D(64, (3, 3), \n",
    "                  activation='relu', \n",
    "                  data_format=\"channels_last\", \n",
    "                  kernel_initializer=\"he_uniform\")(x)\n",
    "x = MaxPooling2D(pool_size=(2, 2), \n",
    "                 strides=(2, 2), \n",
    "                 data_format=\"channels_last\")(x)\n",
    "\n",
    "# Third CNN Layer\n",
    "x = Convolution2D(128, (3, 3), \n",
    "                  activation='relu', \n",
    "                  data_format=\"channels_last\", \n",
    "                  kernel_initializer=\"he_uniform\")(x)\n",
    "x = MaxPooling2D(pool_size=(2, 2), \n",
    "                 strides=(2, 2), \n",
    "                 data_format=\"channels_last\")(x)\n",
    "\n",
    "\n",
    "x = Flatten()(x)\n",
    "\n",
    "x = Dense(96, activation='relu',kernel_initializer=\"he_uniform\")(x)\n",
    "predictions = Dense(2, activation='softmax')(x)\n",
    "\n",
    "model = Model(inputs=inputs, outputs=predictions)"
   ]
  },
  {
   "cell_type": "markdown",
   "metadata": {
    "deletable": true,
    "editable": true
   },
   "source": [
    "### Model arquitecture"
   ]
  },
  {
   "cell_type": "markdown",
   "metadata": {
    "deletable": true,
    "editable": true
   },
   "source": [
    "We have the following model arquitecture:"
   ]
  },
  {
   "cell_type": "code",
   "execution_count": 20,
   "metadata": {
    "collapsed": false,
    "deletable": true,
    "editable": true
   },
   "outputs": [
    {
     "name": "stdout",
     "output_type": "stream",
     "text": [
      "_________________________________________________________________\n",
      "Layer (type)                 Output Shape              Param #   \n",
      "=================================================================\n",
      "input_4 (InputLayer)         (None, 360, 404, 3)       0         \n",
      "_________________________________________________________________\n",
      "conv2d_11 (Conv2D)           (None, 358, 402, 16)      448       \n",
      "_________________________________________________________________\n",
      "max_pooling2d_11 (MaxPooling (None, 178, 200, 16)      0         \n",
      "_________________________________________________________________\n",
      "conv2d_12 (Conv2D)           (None, 176, 198, 32)      4640      \n",
      "_________________________________________________________________\n",
      "max_pooling2d_12 (MaxPooling (None, 88, 99, 32)        0         \n",
      "_________________________________________________________________\n",
      "conv2d_13 (Conv2D)           (None, 86, 97, 64)        18496     \n",
      "_________________________________________________________________\n",
      "max_pooling2d_13 (MaxPooling (None, 43, 48, 64)        0         \n",
      "_________________________________________________________________\n",
      "conv2d_14 (Conv2D)           (None, 41, 46, 128)       73856     \n",
      "_________________________________________________________________\n",
      "max_pooling2d_14 (MaxPooling (None, 20, 23, 128)       0         \n",
      "_________________________________________________________________\n",
      "flatten_4 (Flatten)          (None, 58880)             0         \n",
      "_________________________________________________________________\n",
      "dense_7 (Dense)              (None, 96)                5652576   \n",
      "_________________________________________________________________\n",
      "dense_8 (Dense)              (None, 2)                 194       \n",
      "=================================================================\n",
      "Total params: 5,750,210.0\n",
      "Trainable params: 5,750,210.0\n",
      "Non-trainable params: 0.0\n",
      "_________________________________________________________________\n"
     ]
    }
   ],
   "source": [
    "model.summary()"
   ]
  },
  {
   "cell_type": "markdown",
   "metadata": {
    "collapsed": true,
    "deletable": true,
    "editable": true
   },
   "source": [
    "### Keras callbacks"
   ]
  },
  {
   "cell_type": "markdown",
   "metadata": {
    "deletable": true,
    "editable": true
   },
   "source": [
    "We are going to define two callbacks that are going to be called in the training. EarlyStopping to stop the training if its not getting better. And a tensorboard callback to log information to be used by tensorboard."
   ]
  },
  {
   "cell_type": "code",
   "execution_count": 21,
   "metadata": {
    "collapsed": false,
    "deletable": true,
    "editable": true
   },
   "outputs": [],
   "source": [
    "from keras.callbacks import EarlyStopping\n",
    "from keras.callbacks import TensorBoard\n",
    "\n",
    "# Early stop in case of getting worse\n",
    "early_stop = EarlyStopping(monitor = 'val_loss', patience = 3, verbose = 0)\n",
    "\n",
    "#TensorBoard\n",
    "# run tensorboard with tensorboard --logdir=/full_path_to_your_logs\n",
    "#tensorboard_path = TENSORBOARD_DIRECTORY\n",
    "#tensorboard_logger = TensorBoard(log_dir=tensorboard_path, histogram_freq=0, write_graph=False, write_images=False)\n",
    "#print('Logging basic info to be used by TensorBoard to {}. To see this log run:'.format(tensorboard_path))\n",
    "#print('tensorboard --logdir={}'.format(tensorboard_path))\n",
    "\n",
    "callbacks = [early_stop]#, tensorboard_logger]"
   ]
  },
  {
   "cell_type": "markdown",
   "metadata": {
    "deletable": true,
    "editable": true
   },
   "source": [
    "### Model Optimizer"
   ]
  },
  {
   "cell_type": "code",
   "execution_count": 22,
   "metadata": {
    "collapsed": true,
    "deletable": true,
    "editable": true
   },
   "outputs": [],
   "source": [
    "OPTIMIZER_LEARNING_RATE = 1e-2\n",
    "OPTIMIZER_DECAY = 1e-4  # LearningRate = LearningRate * 1/(1 + decay * epoch)\n",
    "OPTIMIZER_MOMENTUM = 0.89\n",
    "OPTIMIZER_NESTEROV_ENABLED = False"
   ]
  },
  {
   "cell_type": "code",
   "execution_count": 23,
   "metadata": {
    "collapsed": true,
    "deletable": true,
    "editable": true
   },
   "outputs": [],
   "source": [
    "from keras.optimizers import SGD\n",
    "\n",
    "optimizer = SGD(lr=OPTIMIZER_LEARNING_RATE, \n",
    "          decay=OPTIMIZER_DECAY, \n",
    "          momentum=OPTIMIZER_MOMENTUM, \n",
    "          nesterov=OPTIMIZER_NESTEROV_ENABLED)"
   ]
  },
  {
   "cell_type": "markdown",
   "metadata": {
    "deletable": true,
    "editable": true
   },
   "source": [
    "### Compile the model"
   ]
  },
  {
   "cell_type": "code",
   "execution_count": 24,
   "metadata": {
    "collapsed": true,
    "deletable": true,
    "editable": true
   },
   "outputs": [],
   "source": [
    "model.compile(loss='categorical_crossentropy', \n",
    "              optimizer=optimizer, \\\n",
    "              metrics=[\"accuracy\"])"
   ]
  },
  {
   "cell_type": "markdown",
   "metadata": {
    "deletable": true,
    "editable": true
   },
   "source": [
    "## Training "
   ]
  },
  {
   "cell_type": "markdown",
   "metadata": {
    "deletable": true,
    "editable": true
   },
   "source": [
    "### Train data generator"
   ]
  },
  {
   "cell_type": "code",
   "execution_count": 25,
   "metadata": {
    "collapsed": false,
    "deletable": true,
    "editable": true
   },
   "outputs": [
    {
     "name": "stdout",
     "output_type": "stream",
     "text": [
      "Found 17500 images belonging to 2 classes.\n"
     ]
    }
   ],
   "source": [
    "from keras.preprocessing.image import ImageDataGenerator\n",
    "\n",
    "## train generator with shuffle but no data augmentation\n",
    "train_datagen = ImageDataGenerator(rescale = 1./255)\n",
    "\n",
    "train_batch_generator =  train_datagen.flow_from_directory(TRAIN_DIRECTORY, \n",
    "                                                 target_size = IMAGE_SIZE,\n",
    "                                                 class_mode = 'categorical', \n",
    "                                                 batch_size = BATCH_SIZE)"
   ]
  },
  {
   "cell_type": "markdown",
   "metadata": {
    "deletable": true,
    "editable": true
   },
   "source": [
    "### Validation data generator"
   ]
  },
  {
   "cell_type": "code",
   "execution_count": 26,
   "metadata": {
    "collapsed": false,
    "deletable": true,
    "editable": true
   },
   "outputs": [
    {
     "name": "stdout",
     "output_type": "stream",
     "text": [
      "Found 5000 images belonging to 2 classes.\n"
     ]
    }
   ],
   "source": [
    "from keras.preprocessing.image import ImageDataGenerator\n",
    "\n",
    "## train generator with shuffle but no data augmentation\n",
    "validation_datagen = ImageDataGenerator(rescale = 1./255)\n",
    "\n",
    "valid_batch_generator =  validation_datagen.flow_from_directory(VALID_DIRECTORY, \n",
    "                                                 target_size = IMAGE_SIZE,\n",
    "                                                 class_mode = 'categorical', \n",
    "                                                 batch_size = BATCH_SIZE)"
   ]
  },
  {
   "cell_type": "markdown",
   "metadata": {
    "deletable": true,
    "editable": true
   },
   "source": [
    "### Model fitting"
   ]
  },
  {
   "cell_type": "code",
   "execution_count": null,
   "metadata": {
    "collapsed": false,
    "deletable": true,
    "editable": true
   },
   "outputs": [
    {
     "name": "stdout",
     "output_type": "stream",
     "text": [
      "Epoch 1/8\n",
      "385s - loss: 0.6388 - acc: 0.6314 - val_loss: 0.5796 - val_acc: 0.6776\n",
      "Epoch 2/8\n",
      "381s - loss: 0.5556 - acc: 0.7134 - val_loss: 0.5386 - val_acc: 0.7222\n",
      "Epoch 3/8\n",
      "381s - loss: 0.4630 - acc: 0.7793 - val_loss: 0.4570 - val_acc: 0.7906\n",
      "Epoch 4/8\n"
     ]
    }
   ],
   "source": [
    "# fine-tune the model\n",
    "hist = model.fit_generator(\n",
    "        train_batch_generator,\n",
    "        steps_per_epoch=NUMBER_TRAIN_SAMPLES/BATCH_SIZE,\n",
    "        epochs=NUMBER_EPOCHS,  # epochs: Integer, total number of iterations on the data.\n",
    "        validation_data=valid_batch_generator,\n",
    "        validation_steps=NUMBER_VALIDATION_SAMPLES/BATCH_SIZE,\n",
    "        callbacks=callbacks,\n",
    "        verbose=2)"
   ]
  },
  {
   "cell_type": "code",
   "execution_count": null,
   "metadata": {
    "collapsed": true
   },
   "outputs": [],
   "source": [
    "\n",
    "model_save_path = WEIGHTS_DIRECTORY + 'simple_cnn_weights.h5'\n",
    "\n",
    "print('Saving TOP (FCN) weigths to ', model_save_path)\n",
    "\n",
    "model.save_weights(model_save_path, overwrite=True)"
   ]
  },
  {
   "cell_type": "markdown",
   "metadata": {
    "deletable": true,
    "editable": true
   },
   "source": [
    "### Training plots"
   ]
  },
  {
   "cell_type": "code",
   "execution_count": null,
   "metadata": {
    "collapsed": true,
    "deletable": true,
    "editable": true
   },
   "outputs": [],
   "source": [
    "import matplotlib.pyplot as plt\n",
    "\n",
    "# summarize history for accuracy\n",
    "plt.figure(figsize=(15, 5))\n",
    "plt.subplot(1, 2, 1)\n",
    "plt.plot(hist.history['acc']); plt.plot(hist.history['val_acc']);\n",
    "plt.title('model accuracy'); plt.ylabel('accuracy');\n",
    "plt.xlabel('epoch'); plt.legend(['train', 'valid'], loc='upper left');\n",
    "\n",
    "# summarize history for loss\n",
    "plt.subplot(1, 2, 2)\n",
    "plt.plot(hist.history['loss']); plt.plot(hist.history['val_loss']);\n",
    "plt.title('model loss'); plt.ylabel('loss');\n",
    "plt.xlabel('epoch'); plt.legend(['train', 'valid'], loc='upper left');\n",
    "plt.show()"
   ]
  },
  {
   "cell_type": "markdown",
   "metadata": {
    "deletable": true,
    "editable": true
   },
   "source": [
    "## Plot a few examples"
   ]
  },
  {
   "cell_type": "code",
   "execution_count": null,
   "metadata": {
    "collapsed": true,
    "deletable": true,
    "editable": true
   },
   "outputs": [],
   "source": [
    "\n"
   ]
  },
  {
   "cell_type": "markdown",
   "metadata": {
    "deletable": true,
    "editable": true
   },
   "source": [
    "## Evaluate the model"
   ]
  },
  {
   "cell_type": "code",
   "execution_count": null,
   "metadata": {
    "collapsed": true,
    "deletable": true,
    "editable": true
   },
   "outputs": [],
   "source": []
  }
 ],
 "metadata": {
  "kernelspec": {
   "display_name": "Python 3",
   "language": "python",
   "name": "python3"
  },
  "language_info": {
   "codemirror_mode": {
    "name": "ipython",
    "version": 3
   },
   "file_extension": ".py",
   "mimetype": "text/x-python",
   "name": "python",
   "nbconvert_exporter": "python",
   "pygments_lexer": "ipython3",
   "version": "3.4.3"
  }
 },
 "nbformat": 4,
 "nbformat_minor": 2
}
