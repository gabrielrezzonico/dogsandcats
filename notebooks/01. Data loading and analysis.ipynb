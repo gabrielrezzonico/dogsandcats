{
 "cells": [
  {
   "cell_type": "code",
   "execution_count": 2,
   "metadata": {
    "collapsed": false,
    "deletable": true,
    "editable": true
   },
   "outputs": [
    {
     "name": "stdout",
     "output_type": "stream",
     "text": [
      "Current working directory: /home/gabriel/Personal/jupyter/kaggle/dogsandcats/notebooks\n"
     ]
    }
   ],
   "source": [
    "import os\n",
    "WORKING_DIRECTORY = os.getcwd()\n",
    "print(\"Current working directory: {}\".format(WORKING_DIRECTORY))"
   ]
  },
  {
   "cell_type": "code",
   "execution_count": 6,
   "metadata": {
    "collapsed": true,
    "deletable": true,
    "editable": true
   },
   "outputs": [],
   "source": [
    "ORIGINAL_TRAIN_DIRECTORY = \"../data/original_train/\"\n",
    "TRAIN_DIRECTORY = \"../data/train/\"\n",
    "VALID_DIRECTORY = \"../data/valid/\"\n",
    "TEST_DIRECTORY = \"../data/test/\"\n",
    "\n",
    "CLASSES = ['cat', 'dog']\n",
    "\n",
    "VALIDATION_SIZE = 0.2 # size of the validation we want to use\n",
    "TEST_SIZE = 0.1"
   ]
  },
  {
   "cell_type": "markdown",
   "metadata": {
    "deletable": true,
    "editable": true
   },
   "source": [
    "## Data size"
   ]
  },
  {
   "cell_type": "code",
   "execution_count": 63,
   "metadata": {
    "collapsed": false,
    "deletable": true,
    "editable": true
   },
   "outputs": [],
   "source": [
    "import pandas as pd\n",
    "from PIL import Image\n",
    "\n",
    "files = glob.glob(ORIGINAL_TRAIN_DIRECTORY + '*')\n",
    "df = pd.DataFrame({'fpath':files,'w':0,'h':0})\n",
    "df['category'] = df.fpath.str.extract('../data/original_train/([a-zA-Z]*).', expand=False) # extract class\n",
    "for idx in df.index:\n",
    "    im = Image.open(df.ix[idx].fpath)\n",
    "    df.ix[idx,['w','h']] = im.size"
   ]
  },
  {
   "cell_type": "code",
   "execution_count": 64,
   "metadata": {
    "collapsed": false,
    "deletable": true,
    "editable": true
   },
   "outputs": [
    {
     "data": {
      "text/html": [
       "<div>\n",
       "<table border=\"1\" class=\"dataframe\">\n",
       "  <thead>\n",
       "    <tr style=\"text-align: right;\">\n",
       "      <th></th>\n",
       "      <th>fpath</th>\n",
       "      <th>h</th>\n",
       "      <th>w</th>\n",
       "      <th>category</th>\n",
       "    </tr>\n",
       "  </thead>\n",
       "  <tbody>\n",
       "    <tr>\n",
       "      <th>0</th>\n",
       "      <td>../data/original_train/dog.798.jpg</td>\n",
       "      <td>293</td>\n",
       "      <td>249</td>\n",
       "      <td>dog</td>\n",
       "    </tr>\n",
       "    <tr>\n",
       "      <th>1</th>\n",
       "      <td>../data/original_train/dog.10748.jpg</td>\n",
       "      <td>301</td>\n",
       "      <td>349</td>\n",
       "      <td>dog</td>\n",
       "    </tr>\n",
       "    <tr>\n",
       "      <th>2</th>\n",
       "      <td>../data/original_train/dog.8365.jpg</td>\n",
       "      <td>375</td>\n",
       "      <td>499</td>\n",
       "      <td>dog</td>\n",
       "    </tr>\n",
       "    <tr>\n",
       "      <th>3</th>\n",
       "      <td>../data/original_train/cat.3227.jpg</td>\n",
       "      <td>443</td>\n",
       "      <td>291</td>\n",
       "      <td>cat</td>\n",
       "    </tr>\n",
       "    <tr>\n",
       "      <th>4</th>\n",
       "      <td>../data/original_train/dog.9597.jpg</td>\n",
       "      <td>221</td>\n",
       "      <td>294</td>\n",
       "      <td>dog</td>\n",
       "    </tr>\n",
       "  </tbody>\n",
       "</table>\n",
       "</div>"
      ],
      "text/plain": [
       "                                  fpath    h    w category\n",
       "0    ../data/original_train/dog.798.jpg  293  249      dog\n",
       "1  ../data/original_train/dog.10748.jpg  301  349      dog\n",
       "2   ../data/original_train/dog.8365.jpg  375  499      dog\n",
       "3   ../data/original_train/cat.3227.jpg  443  291      cat\n",
       "4   ../data/original_train/dog.9597.jpg  221  294      dog"
      ]
     },
     "execution_count": 64,
     "metadata": {},
     "output_type": "execute_result"
    }
   ],
   "source": [
    "df.head()"
   ]
  },
  {
   "cell_type": "code",
   "execution_count": 65,
   "metadata": {
    "collapsed": false,
    "deletable": true,
    "editable": true
   },
   "outputs": [
    {
     "data": {
      "text/html": [
       "<div>\n",
       "<table border=\"1\" class=\"dataframe\">\n",
       "  <thead>\n",
       "    <tr style=\"text-align: right;\">\n",
       "      <th></th>\n",
       "      <th>h</th>\n",
       "      <th>w</th>\n",
       "    </tr>\n",
       "  </thead>\n",
       "  <tbody>\n",
       "    <tr>\n",
       "      <th>count</th>\n",
       "      <td>25000.000000</td>\n",
       "      <td>25000.00000</td>\n",
       "    </tr>\n",
       "    <tr>\n",
       "      <th>mean</th>\n",
       "      <td>360.478080</td>\n",
       "      <td>404.09904</td>\n",
       "    </tr>\n",
       "    <tr>\n",
       "      <th>std</th>\n",
       "      <td>97.019959</td>\n",
       "      <td>109.03793</td>\n",
       "    </tr>\n",
       "    <tr>\n",
       "      <th>min</th>\n",
       "      <td>32.000000</td>\n",
       "      <td>42.00000</td>\n",
       "    </tr>\n",
       "    <tr>\n",
       "      <th>25%</th>\n",
       "      <td>301.000000</td>\n",
       "      <td>323.00000</td>\n",
       "    </tr>\n",
       "    <tr>\n",
       "      <th>50%</th>\n",
       "      <td>374.000000</td>\n",
       "      <td>447.00000</td>\n",
       "    </tr>\n",
       "    <tr>\n",
       "      <th>75%</th>\n",
       "      <td>421.000000</td>\n",
       "      <td>499.00000</td>\n",
       "    </tr>\n",
       "    <tr>\n",
       "      <th>max</th>\n",
       "      <td>768.000000</td>\n",
       "      <td>1050.00000</td>\n",
       "    </tr>\n",
       "  </tbody>\n",
       "</table>\n",
       "</div>"
      ],
      "text/plain": [
       "                  h            w\n",
       "count  25000.000000  25000.00000\n",
       "mean     360.478080    404.09904\n",
       "std       97.019959    109.03793\n",
       "min       32.000000     42.00000\n",
       "25%      301.000000    323.00000\n",
       "50%      374.000000    447.00000\n",
       "75%      421.000000    499.00000\n",
       "max      768.000000   1050.00000"
      ]
     },
     "execution_count": 65,
     "metadata": {},
     "output_type": "execute_result"
    }
   ],
   "source": [
    "df.describe()"
   ]
  },
  {
   "cell_type": "markdown",
   "metadata": {
    "deletable": true,
    "editable": true
   },
   "source": [
    "There are 25000 images in the dataset. We can see that the mean size of the images is (360.478080,404.09904). "
   ]
  },
  {
   "cell_type": "markdown",
   "metadata": {
    "deletable": true,
    "editable": true
   },
   "source": [
    "## Data preparation"
   ]
  },
  {
   "cell_type": "markdown",
   "metadata": {
    "deletable": true,
    "editable": true
   },
   "source": [
    "The dataset can be downloaded from https://www.kaggle.com/c/the-nature-conservancy-fisheries-monitoring/data."
   ]
  },
  {
   "cell_type": "markdown",
   "metadata": {
    "deletable": true,
    "editable": true
   },
   "source": [
    "Number of training examples:"
   ]
  },
  {
   "cell_type": "code",
   "execution_count": 40,
   "metadata": {
    "collapsed": false,
    "deletable": true,
    "editable": true
   },
   "outputs": [
    {
     "name": "stdout",
     "output_type": "stream",
     "text": [
      "Total number of files in train folder: 25000\n"
     ]
    }
   ],
   "source": [
    "import os\n",
    "TOTAL_NUMBER_FILES = sum([len(files) for r, d, files in os.walk(ORIGINAL_TRAIN_DIRECTORY)])\n",
    "print(\"Total number of files in train folder:\", TOTAL_NUMBER_FILES)"
   ]
  },
  {
   "cell_type": "markdown",
   "metadata": {
    "deletable": true,
    "editable": true
   },
   "source": [
    "### Folder structure"
   ]
  },
  {
   "cell_type": "markdown",
   "metadata": {
    "deletable": true,
    "editable": true
   },
   "source": [
    "The train directory consist of labelled data with the following convention for each image: \n",
    "\n",
    "data/train/CLASS.id.jpg\n",
    "\n",
    "We are going to use keras.preprocessing.image so we want the folder structure to be:\n",
    "\n",
    "data/train/CLASS/image-name.jpg"
   ]
  },
  {
   "cell_type": "code",
   "execution_count": 10,
   "metadata": {
    "collapsed": false,
    "deletable": true,
    "editable": true
   },
   "outputs": [],
   "source": [
    "import glob\n",
    "import os\n",
    "import shutil\n",
    "import numpy as np\n",
    "\n",
    "shutil.rmtree(os.path.join(TEST_DIRECTORY, \"dog\"), ignore_errors=True)\n",
    "shutil.rmtree(os.path.join(TEST_DIRECTORY, \"cat\"), ignore_errors=True)\n",
    "\n",
    "shutil.rmtree(os.path.join(VALID_DIRECTORY, \"dog\"), ignore_errors=True)\n",
    "shutil.rmtree(os.path.join(VALID_DIRECTORY, \"cat\"), ignore_errors=True)\n",
    "\n",
    "shutil.rmtree(os.path.join(TRAIN_DIRECTORY, \"dog\"), ignore_errors=True)\n",
    "shutil.rmtree(os.path.join(TRAIN_DIRECTORY, \"cat\"), ignore_errors=True)\n",
    "\n",
    "os.mkdir(os.path.join(TEST_DIRECTORY, \"dog\"))\n",
    "os.mkdir(os.path.join(TEST_DIRECTORY, \"cat\"))\n",
    "\n",
    "os.mkdir(os.path.join(VALID_DIRECTORY, \"dog\"))\n",
    "os.mkdir(os.path.join(VALID_DIRECTORY, \"cat\"))\n",
    "\n",
    "os.mkdir(os.path.join(TRAIN_DIRECTORY, \"dog\"))\n",
    "os.mkdir(os.path.join(TRAIN_DIRECTORY, \"cat\"))\n",
    "\n"
   ]
  },
  {
   "cell_type": "code",
   "execution_count": 11,
   "metadata": {
    "collapsed": false,
    "deletable": true,
    "editable": true
   },
   "outputs": [],
   "source": [
    "#########################\n",
    "# DOGS\n",
    "##########\n",
    "#random list of dog files\n",
    "dog_pattern = ORIGINAL_TRAIN_DIRECTORY + \"dog.*\"\n",
    "dog_files = np.random.permutation(glob.glob(dog_pattern))\n",
    "\n",
    "# randomly split the files in train folder and move them to validation\n",
    "number_validation_dog_files = int(len(dog_files) * VALIDATION_SIZE)\n",
    "number_test_dog_files = int(len(dog_files) * TEST_SIZE)\n",
    "\n",
    "for index, dog_file in enumerate(dog_files):\n",
    "    file_name = os.path.split(dog_file)[1]\n",
    "    if index < number_validation_dog_files:#validation files\n",
    "        new_path = os.path.join(VALID_DIRECTORY, \"dog\",  file_name)\n",
    "    elif index >= number_validation_dog_files and index < (number_validation_dog_files + number_test_dog_files):\n",
    "        new_path = os.path.join(TEST_DIRECTORY, \"dog\",  file_name)\n",
    "    else:\n",
    "        new_path = os.path.join(TRAIN_DIRECTORY, \"dog\",  file_name)\n",
    "    shutil.copy(dog_file, new_path)\n",
    "\n",
    "#########################\n",
    "# CATS\n",
    "##########\n",
    "#random list of dog files\n",
    "cat_pattern = ORIGINAL_TRAIN_DIRECTORY + \"cat.*\"\n",
    "cat_files = np.random.permutation(glob.glob(cat_pattern))\n",
    "\n",
    "# randomly split the files in train folder and move them to validation\n",
    "number_validation_cat_files = int(len(cat_files) * VALIDATION_SIZE)\n",
    "number_test_cat_files = int(len(cat_files) * TEST_SIZE)\n",
    "\n",
    "for index, cat_file in enumerate(cat_files):\n",
    "    file_name = os.path.split(cat_file)[1]\n",
    "    if index < number_validation_cat_files:\n",
    "        new_path = os.path.join(VALID_DIRECTORY, \"cat\",  file_name)\n",
    "    elif index >= number_validation_cat_files and index < (number_validation_cat_files+number_test_cat_files):\n",
    "        new_path = os.path.join(TEST_DIRECTORY, \"cat\",  file_name)\n",
    "    else:\n",
    "        new_path = os.path.join(TRAIN_DIRECTORY, \"cat\",  file_name)\n",
    "    shutil.copy(cat_file, new_path)    "
   ]
  },
  {
   "cell_type": "code",
   "execution_count": null,
   "metadata": {
    "collapsed": true
   },
   "outputs": [],
   "source": []
  }
 ],
 "metadata": {
  "kernelspec": {
   "display_name": "Python 3",
   "language": "python",
   "name": "python3"
  },
  "language_info": {
   "codemirror_mode": {
    "name": "ipython",
    "version": 3
   },
   "file_extension": ".py",
   "mimetype": "text/x-python",
   "name": "python",
   "nbconvert_exporter": "python",
   "pygments_lexer": "ipython3",
   "version": "3.6.0"
  }
 },
 "nbformat": 4,
 "nbformat_minor": 2
}
